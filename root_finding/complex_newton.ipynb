{
 "metadata": {
  "name": "",
  "signature": "sha256:1532ae8a9b61eddbd907f3c9b20d54679ba390417ff53e9514ec6630a51d9f00"
 },
 "nbformat": 3,
 "nbformat_minor": 0,
 "worksheets": [
  {
   "cells": [
    {
     "cell_type": "heading",
     "level": 1,
     "metadata": {},
     "source": [
      "Newton method for complex roots"
     ]
    },
    {
     "cell_type": "markdown",
     "metadata": {},
     "source": [
      "Consider the function\n",
      "$$\n",
      "f(x) = x^5 + 1\n",
      "$$\n",
      "The roots lie on the unit circle in the complex plane."
     ]
    },
    {
     "cell_type": "code",
     "collapsed": false,
     "input": [
      "from numpy import abs"
     ],
     "language": "python",
     "metadata": {},
     "outputs": [],
     "prompt_number": 2
    },
    {
     "cell_type": "code",
     "collapsed": false,
     "input": [
      "def f(x):\n",
      "    return x**5 + 1.0\n",
      "\n",
      "def df(x):\n",
      "    return 5.0*x**4"
     ],
     "language": "python",
     "metadata": {},
     "outputs": [],
     "prompt_number": 3
    },
    {
     "cell_type": "code",
     "collapsed": false,
     "input": [
      "def newton(f,df,x0,M=100,eps=1.0e-15):\n",
      "    x = x0\n",
      "    for i in range(M):\n",
      "        dx = - f(x)/df(x)\n",
      "        x  = x + dx\n",
      "        print i,x,abs(f(x))\n",
      "        if abs(dx) < eps * abs(x):\n",
      "            return x"
     ],
     "language": "python",
     "metadata": {},
     "outputs": [],
     "prompt_number": 4
    },
    {
     "cell_type": "code",
     "collapsed": false,
     "input": [
      "x0 = 1.0 + 1.0j\n",
      "x = newton(f,df,x0)"
     ],
     "language": "python",
     "metadata": {},
     "outputs": [
      {
       "output_type": "stream",
       "stream": "stdout",
       "text": [
        "0 (0.85+0.8j) 1.48449260687\n",
        "1 (0.786945048682+0.653022872974j) 0.358786849698\n",
        "2 (0.800009825693+0.58871686636j) 0.044669919092\n",
        "3 (0.8091271136+0.587660739882j) 0.000831133887574\n",
        "4 (0.809016956688+0.587785211881j) 2.76287012166e-07\n",
        "5 (0.809016994375+0.587785252292j) 3.01410727401e-14\n",
        "6 (0.809016994375+0.587785252292j) 2.22044604925e-16\n",
        "7 (0.809016994375+0.587785252292j) 2.22044604925e-16\n"
       ]
      }
     ],
     "prompt_number": 5
    }
   ],
   "metadata": {}
  }
 ]
}