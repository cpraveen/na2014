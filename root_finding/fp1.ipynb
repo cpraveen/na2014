{
 "metadata": {
  "name": "",
  "signature": "sha256:fe1b25bb475a951b0e3a8d1f5df5e65f47f3305da45871c15ff49dd32b0ba3b0"
 },
 "nbformat": 3,
 "nbformat_minor": 0,
 "worksheets": [
  {
   "cells": [
    {
     "cell_type": "heading",
     "level": 1,
     "metadata": {},
     "source": [
      "Example of fixed point iteration"
     ]
    },
    {
     "cell_type": "markdown",
     "metadata": {},
     "source": [
      "Consider finding roots of\n",
      "$$\n",
      "f(x) = x^2 - a, \\qquad a > 0\n",
      "$$\n",
      "using following fixed point maps\n",
      "\\begin{eqnarray*}\n",
      "x &=& x + c(x^2 - a) \\\\\n",
      "x &=& \\frac{a}{x} \\\\\n",
      "x &=& \\frac{1}{2}\\left( x + \\frac{a}{x} \\right)\n",
      "\\end{eqnarray*}"
     ]
    },
    {
     "cell_type": "code",
     "collapsed": false,
     "input": [
      "a = 3.0\n",
      "c = 1.0\n",
      "x1, x2, x3 = 2.0, 2.0, 2.0\n",
      "print \"%6d %18.8e %18.8e %18.8e\" % (0,x1,x2,x3)\n",
      "for i in range(5):\n",
      "    x1 = x1 + c*(x1**2 - a)\n",
      "    x2 = a/x2\n",
      "    x3 = 0.5*(x3 + a/x3)\n",
      "    print \"%6d %18.8e %18.8e %18.8e\" % (i+1,x1,x2,x3)\n"
     ],
     "language": "python",
     "metadata": {},
     "outputs": [
      {
       "output_type": "stream",
       "stream": "stdout",
       "text": [
        "     0     2.00000000e+00     2.00000000e+00     2.00000000e+00\n",
        "     1     3.00000000e+00     1.50000000e+00     1.75000000e+00\n",
        "     2     9.00000000e+00     2.00000000e+00     1.73214286e+00\n",
        "     3     8.70000000e+01     1.50000000e+00     1.73205081e+00\n",
        "     4     7.65300000e+03     2.00000000e+00     1.73205081e+00\n",
        "     5     5.85760590e+07     1.50000000e+00     1.73205081e+00\n"
       ]
      }
     ],
     "prompt_number": 10
    },
    {
     "cell_type": "markdown",
     "metadata": {},
     "source": [
      "The first iteration diverges, the second oscillates while the last (Newton method) converges."
     ]
    }
   ],
   "metadata": {}
  }
 ]
}