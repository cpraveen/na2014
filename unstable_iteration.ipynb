{
 "metadata": {
  "name": ""
 },
 "nbformat": 3,
 "nbformat_minor": 0,
 "worksheets": [
  {
   "cells": [
    {
     "cell_type": "code",
     "collapsed": false,
     "input": [
      "from numpy import zeros, float32\n",
      "from matplotlib.pyplot import plot\n",
      "\n",
      "n = 20\n",
      "x = zeros(n, dtype=float32)\n",
      "y = zeros(n, dtype=float32)\n",
      "x[0], y[0] = 1.0, 1.0\n",
      "x[1], y[1] = 1.0/3.0, 1.0/3.0\n",
      "\n",
      "for i in range(2,n):\n",
      "   x[i] = (13.0/3.0)*x[i-1] - (4.0/3.0)*x[i-2]\n",
      "   y[i] = y[i-1]/3.0\n",
      "   print \"%6d %20.10e %20.10e\" % (i, x[i], y[i])\n",
      "\n",
      "plot(range(n),x)"
     ],
     "language": "python",
     "metadata": {},
     "outputs": [
      {
       "output_type": "stream",
       "stream": "stdout",
       "text": [
        "     2     1.1111115664e-01     1.1111111194e-01\n",
        "     3     3.7037219852e-02     3.7037037313e-02\n",
        "     4     1.2346410193e-02     1.2345679104e-02\n",
        "     5     4.1181510314e-03     4.1152262129e-03\n",
        "     6     1.3834409183e-03     1.3717421098e-03\n",
        "     7     5.0404260401e-04     4.5724736992e-04\n",
        "     8     3.3959673601e-04     1.5241578512e-04\n",
        "     9     7.9952902161e-04     5.0805261708e-05\n",
        "    10     3.0118301511e-03     1.6935087842e-05\n",
        "    11     1.1985225603e-02     5.6450294323e-06\n",
        "    12     4.7920204699e-02     1.8816764396e-06\n",
        "    13     1.9167391956e-01     6.2722546090e-07\n",
        "    14     7.6669335365e-01     2.0907515363e-07\n",
        "    15     3.0667726994e+00     6.9691715510e-08\n",
        "    16     1.2267090797e+01     2.3230571244e-08\n",
        "    17     4.9068363190e+01     7.7435240442e-09\n",
        "    18     1.9627345276e+02     2.5811746074e-09\n",
        "    19     7.8509381104e+02     8.6039153580e-10\n"
       ]
      },
      {
       "metadata": {},
       "output_type": "pyout",
       "prompt_number": 1,
       "text": [
        "[<matplotlib.lines.Line2D at 0x7fcd193fbc50>]"
       ]
      },
      {
       "metadata": {},
       "output_type": "display_data",
       "png": "[encoded data removed]",
       "text": [
        "<matplotlib.figure.Figure at 0x7fcd19541450>"
       ]
      }
     ],
     "prompt_number": 1
    },
    {
     "cell_type": "code",
     "collapsed": false,
     "input": [],
     "language": "python",
     "metadata": {},
     "outputs": []
    }
   ],
   "metadata": {}
  }
 ]
}